{
 "cells": [
  {
   "cell_type": "code",
   "execution_count": 2,
   "metadata": {},
   "outputs": [
    {
     "name": "stdout",
     "output_type": "stream",
     "text": [
      "100\n",
      "[54, 119, 157, 254, 783, 365, 595, 448, 400, 203, 170, 730, 72, 867, 1255, 62, 266, 400, 111, 400, 932, 427, 372, 137, 421]\n",
      "98\n",
      "[1, 115, 207, 401, 801, 399, 799, 400, 400, 1, 169, 800, 105, 800, 1199, 95, 200, 400, 116, 400, 801, 400, 399, 192, 400]\n",
      "96\n",
      "[1, 118, 206, 401, 801, 399, 799, 400, 400, 1, 162, 800, 107, 800, 1199, 111, 182, 400, 120, 400, 801, 400, 399, 193, 400]\n",
      "94\n",
      "[1, 118, 212, 401, 801, 399, 799, 400, 400, 1, 157, 800, 112, 800, 1199, 119, 169, 400, 125, 400, 801, 400, 399, 187, 400]\n",
      "92\n",
      "[1, 114, 216, 401, 801, 399, 799, 400, 400, 1, 161, 800, 119, 800, 1199, 122, 159, 400, 125, 400, 801, 400, 399, 183, 400]\n",
      "90\n",
      "[1, 109, 219, 401, 801, 399, 799, 400, 400, 1, 157, 800, 122, 800, 1199, 127, 151, 400, 134, 400, 801, 400, 399, 180, 400]\n",
      "88\n",
      "[1, 108, 220, 401, 801, 399, 799, 400, 400, 1, 156, 800, 125, 800, 1199, 126, 149, 400, 136, 400, 801, 400, 399, 179, 400]\n",
      "86\n",
      "[1, 109, 222, 401, 801, 399, 799, 400, 400, 1, 150, 800, 127, 800, 1199, 126, 147, 400, 141, 400, 801, 400, 399, 177, 400]\n",
      "84\n",
      "[1, 109, 224, 401, 801, 399, 799, 400, 400, 1, 144, 800, 125, 800, 1199, 129, 146, 400, 147, 400, 801, 400, 399, 175, 400]\n",
      "82\n",
      "[1, 108, 225, 401, 801, 399, 799, 400, 400, 1, 145, 800, 123, 800, 1199, 134, 143, 400, 147, 400, 801, 400, 399, 174, 400]\n",
      "80\n",
      "[1, 106, 224, 401, 801, 399, 799, 400, 400, 1, 148, 800, 123, 800, 1199, 137, 140, 400, 146, 400, 801, 400, 399, 175, 400]\n",
      "78\n",
      "[1, 105, 225, 401, 801, 399, 799, 400, 400, 1, 148, 800, 122, 800, 1199, 139, 139, 400, 147, 400, 801, 400, 399, 174, 400]\n",
      "76\n",
      "[1, 101, 225, 401, 801, 399, 799, 400, 400, 1, 150, 800, 121, 800, 1199, 139, 140, 400, 149, 400, 801, 400, 399, 174, 400]\n",
      "74\n",
      "[1, 101, 225, 401, 801, 399, 799, 400, 400, 1, 149, 800, 120, 800, 1199, 139, 141, 400, 150, 400, 801, 400, 399, 174, 400]\n",
      "72\n",
      "[1, 101, 225, 401, 801, 399, 799, 400, 400, 1, 149, 800, 119, 800, 1199, 139, 142, 400, 150, 400, 801, 400, 399, 174, 400]\n",
      "70\n",
      "[1, 99, 225, 401, 801, 399, 799, 400, 400, 1, 150, 800, 121, 800, 1199, 139, 140, 400, 151, 400, 801, 400, 399, 174, 400]\n",
      "68\n",
      "[1, 100, 225, 401, 801, 399, 799, 400, 400, 1, 153, 800, 121, 800, 1199, 140, 139, 400, 147, 400, 801, 400, 399, 174, 400]\n",
      "66\n",
      "[1, 103, 225, 401, 801, 399, 799, 400, 400, 1, 152, 800, 121, 800, 1199, 140, 139, 400, 145, 400, 801, 400, 399, 174, 400]\n",
      "64\n",
      "[1, 103, 225, 401, 801, 399, 799, 400, 400, 1, 152, 800, 121, 800, 1199, 140, 139, 400, 145, 400, 801, 400, 399, 174, 400]\n",
      "62\n",
      "[1, 102, 225, 401, 801, 399, 799, 400, 400, 1, 152, 800, 121, 800, 1199, 140, 139, 400, 146, 400, 801, 400, 399, 174, 400]\n",
      "60\n",
      "[1, 104, 225, 401, 801, 399, 799, 400, 400, 1, 153, 800, 121, 800, 1199, 140, 139, 400, 143, 400, 801, 400, 399, 174, 400]\n",
      "58\n",
      "[1, 107, 225, 401, 801, 399, 799, 400, 400, 1, 151, 800, 121, 800, 1199, 140, 139, 400, 142, 400, 801, 400, 399, 174, 400]\n",
      "56\n",
      "[1, 109, 225, 401, 801, 399, 799, 400, 400, 1, 151, 800, 121, 800, 1199, 140, 139, 400, 140, 400, 801, 400, 399, 174, 400]\n",
      "54\n",
      "[1, 111, 225, 401, 801, 399, 799, 400, 400, 1, 151, 800, 121, 800, 1199, 140, 139, 400, 138, 400, 801, 400, 399, 174, 400]\n",
      "52\n",
      "[1, 112, 225, 401, 801, 399, 799, 400, 400, 1, 154, 800, 121, 800, 1199, 140, 139, 400, 134, 400, 801, 400, 399, 174, 400]\n",
      "50\n",
      "[1, 112, 225, 401, 801, 399, 799, 400, 400, 1, 155, 800, 121, 800, 1199, 140, 139, 400, 133, 400, 801, 400, 399, 174, 400]\n",
      "48\n",
      "[1, 112, 225, 401, 801, 399, 799, 400, 400, 1, 155, 800, 121, 800, 1199, 140, 139, 400, 133, 400, 801, 400, 399, 174, 400]\n",
      "46\n",
      "[1, 112, 225, 401, 801, 399, 799, 400, 400, 1, 154, 800, 121, 800, 1199, 140, 139, 400, 134, 400, 801, 400, 399, 174, 400]\n",
      "44\n",
      "[1, 111, 225, 401, 801, 399, 799, 400, 400, 1, 155, 800, 121, 800, 1199, 140, 139, 400, 134, 400, 801, 400, 399, 174, 400]\n",
      "42\n",
      "[1, 111, 225, 401, 801, 399, 799, 400, 400, 1, 155, 800, 121, 800, 1199, 140, 139, 400, 134, 400, 801, 400, 399, 174, 400]\n",
      "40\n",
      "[1, 111, 225, 401, 801, 399, 799, 400, 400, 1, 155, 800, 121, 800, 1199, 140, 139, 400, 134, 400, 801, 400, 399, 174, 400]\n",
      "38\n",
      "[1, 111, 225, 401, 801, 399, 799, 400, 400, 1, 155, 800, 121, 800, 1199, 140, 139, 400, 134, 400, 801, 400, 399, 174, 400]\n",
      "36\n",
      "[1, 111, 225, 401, 801, 399, 799, 400, 400, 1, 155, 800, 121, 800, 1199, 140, 139, 400, 134, 400, 801, 400, 399, 174, 400]\n",
      "34\n",
      "[1, 111, 225, 401, 801, 399, 799, 400, 400, 1, 155, 800, 121, 800, 1199, 140, 139, 400, 134, 400, 801, 400, 399, 174, 400]\n",
      "32\n",
      "[1, 111, 225, 401, 801, 399, 799, 400, 400, 1, 155, 800, 121, 800, 1199, 140, 139, 400, 134, 400, 801, 400, 399, 174, 400]\n",
      "30\n",
      "[1, 111, 225, 401, 801, 399, 799, 400, 400, 1, 155, 800, 121, 800, 1199, 140, 139, 400, 134, 400, 801, 400, 399, 174, 400]\n",
      "28\n",
      "[1, 111, 225, 401, 801, 399, 799, 400, 400, 1, 155, 800, 121, 800, 1199, 140, 139, 400, 134, 400, 801, 400, 399, 174, 400]\n",
      "26\n",
      "[1, 111, 225, 401, 801, 399, 799, 400, 400, 1, 155, 800, 121, 800, 1199, 140, 139, 400, 134, 400, 801, 400, 399, 174, 400]\n",
      "24\n",
      "[1, 111, 225, 401, 801, 399, 799, 400, 400, 1, 155, 800, 121, 800, 1199, 140, 139, 400, 134, 400, 801, 400, 399, 174, 400]\n",
      "22\n",
      "[1, 111, 225, 401, 801, 399, 799, 400, 400, 1, 155, 800, 121, 800, 1199, 140, 139, 400, 134, 400, 801, 400, 399, 174, 400]\n",
      "20\n",
      "[1, 111, 225, 401, 801, 399, 799, 400, 400, 1, 155, 800, 121, 800, 1199, 140, 139, 400, 134, 400, 801, 400, 399, 174, 400]\n",
      "18\n",
      "[1, 111, 225, 401, 801, 399, 799, 400, 400, 1, 155, 800, 121, 800, 1199, 140, 139, 400, 134, 400, 801, 400, 399, 174, 400]\n",
      "16\n",
      "[1, 111, 225, 401, 801, 399, 799, 400, 400, 1, 155, 800, 121, 800, 1199, 140, 139, 400, 134, 400, 801, 400, 399, 174, 400]\n",
      "14\n",
      "[1, 111, 225, 401, 801, 399, 799, 400, 400, 1, 155, 800, 121, 800, 1199, 140, 139, 400, 134, 400, 801, 400, 399, 174, 400]\n",
      "12\n",
      "[1, 111, 225, 401, 801, 399, 799, 400, 400, 1, 155, 800, 121, 800, 1199, 140, 139, 400, 134, 400, 801, 400, 399, 174, 400]\n",
      "10\n",
      "[1, 111, 225, 401, 801, 399, 799, 400, 400, 1, 155, 800, 121, 800, 1199, 140, 139, 400, 134, 400, 801, 400, 399, 174, 400]\n",
      "8\n",
      "[1, 111, 225, 401, 801, 399, 799, 400, 400, 1, 155, 800, 121, 800, 1199, 140, 139, 400, 134, 400, 801, 400, 399, 174, 400]\n",
      "6\n",
      "[1, 111, 225, 401, 801, 399, 799, 400, 400, 1, 155, 800, 121, 800, 1199, 140, 139, 400, 134, 400, 801, 400, 399, 174, 400]\n",
      "4\n",
      "[1, 111, 225, 401, 801, 399, 799, 400, 400, 1, 155, 800, 121, 800, 1199, 140, 139, 400, 134, 400, 801, 400, 399, 174, 400]\n",
      "2\n",
      "[1, 111, 225, 401, 801, 399, 799, 400, 400, 1, 155, 800, 121, 800, 1199, 140, 139, 400, 134, 400, 801, 400, 399, 174, 400]\n"
     ]
    }
   ],
   "source": [
    "import random\n",
    "import math\n",
    "import numpy as np\n",
    "def sed(x,y): # square of euclidean distance\n",
    "    dist=0\n",
    "    for i in range(len(x)):\n",
    "        dist = dist + (x[i]-y[i])*(x[i]-y[i])\n",
    "    return dist\n",
    "def sad(x,y): # simple addition of vectors\n",
    "        v=[]\n",
    "        for i in range(len(x)):\n",
    "                v.append(x[i]+y[i])\n",
    "        return v\n",
    "f1=open(\"podaci005.txt\", \"r\")\n",
    "f2=open(\"res005++.txt\", \"w\")\n",
    "noc=int(f1.readline()) # broj centara - 25\n",
    "nopt=int(f1.readline()) # broj tocaka - 10000\n",
    "dimpt=int(f1.readline()) # dimenzija tocaka - 15\n",
    "noi=15 # broj iteracija\n",
    "x=[]\n",
    "for i in range(nopt):\n",
    "    line=f1.readline() # citam jedan redak iz datoteke\n",
    "    vector=line.split() # splittam redak u listu\n",
    "    x.append(vector) # appendam listu u matricu\n",
    "for i in range(nopt):\n",
    "        for j in range(dimpt):\n",
    "                x[i][j]=float(x[i][j])\n",
    "\n",
    "\n",
    "\n",
    "cent=[]\n",
    "for i in range(noc):\n",
    "        ind=random.randint(0, nopt-1)\n",
    "        cent.append(x[ind])\n",
    "\n",
    "\n",
    "gid=[]\n",
    "for i in range(nopt): # punim listu gid (=group indicator), da bih je poslije mogao samo mijenjati\n",
    "        gid.append(0)\n",
    "\n",
    "# main loop, repeated \"noi\" times\n",
    "# stavi 800 iteracija za mali set\n",
    "# stavi 50 iteracija za veliki set\n",
    "\n",
    "k=0\n",
    "lista = np.empty(50)\n",
    "for temp in range(100\n",
    "                  ,1,-2):\n",
    "        \n",
    "        print(temp)\n",
    "        # odredjivanje clustera\n",
    "        for i in range(nopt):\n",
    "                c=sed(x[i],cent[0])\n",
    "                for j in range(1, noc):\n",
    "                    if(sed(x[i],cent[j])<c):\n",
    "                        gid[i]=j\n",
    "                        c=sed(x[i],cent[j])\n",
    "        # kraj odredjivanja clustera\n",
    "        # odredjivanje novih centara\n",
    "        for i in range(noc):\n",
    "                v=[]\n",
    "                for j in range(dimpt):\n",
    "                        v.append(0)\n",
    "                cl_count=0\n",
    "                for j in range(nopt):\n",
    "                        if gid[j]==i:\n",
    "                                cl_count=cl_count+1\n",
    "                                v=sad(v,x[j])\n",
    "                if cl_count>0:\n",
    "                        for j in range(dimpt):\n",
    "                                cent[i][j]=v[j]*1.0/cl_count\n",
    "        # kraj odredjivanja novih centara\n",
    "        # ispis u file\n",
    "        obj=0\n",
    "        for i in range(nopt):\n",
    "                obj=obj+sed(x[i],cent[gid[i]])        \n",
    "        f2.write(' %s %3d %20.10f \\n' % ('iteration', temp, obj))\n",
    "        counter=[]\n",
    "        for i in range(noc):\n",
    "            cnt = 0\n",
    "            for j in gid:\n",
    "                if(j == i):\n",
    "                    cnt = cnt + 1\n",
    "            counter.append(cnt)\n",
    "                    \n",
    "        print(counter)  \n",
    "        \n",
    "        lista[k] = obj\n",
    "        k=k+1\n",
    "f1.close()\n",
    "f2.close()\n"
   ]
  },
  {
   "cell_type": "code",
   "execution_count": 3,
   "metadata": {},
   "outputs": [
    {
     "data": {
      "text/plain": [
       "KMeans(algorithm='auto', copy_x=True, init='k-means++', max_iter=300,\n",
       "    n_clusters=25, n_init=10, n_jobs=None, precompute_distances='auto',\n",
       "    random_state=None, tol=0.0001, verbose=0)"
      ]
     },
     "execution_count": 3,
     "metadata": {},
     "output_type": "execute_result"
    }
   ],
   "source": [
    "from sklearn.cluster import KMeans\n",
    "\n",
    "\n",
    "f1=open(\"podaci005.txt\", \"r\")\n",
    "f2=open(\"res005++.txt\", \"w\")\n",
    "noc=int(f1.readline()) # broj centara - 25\n",
    "nopt=int(f1.readline()) # broj tocaka - 10000\n",
    "dimpt=int(f1.readline()) # dimenzija tocaka - 15\n",
    "noi=15 # broj iteracija\n",
    "x=[]\n",
    "for i in range(nopt):\n",
    "    line=f1.readline() # citam jedan redak iz datoteke\n",
    "    vector=line.split() # splittam redak u listu\n",
    "    x.append(vector) # appendam listu u matricu\n",
    "for i in range(nopt):\n",
    "        for j in range(dimpt):\n",
    "                x[i][j]=float(x[i][j])\n",
    "\n",
    "\n",
    "kmeans = KMeans(n_clusters=noc).fit(x)\n",
    "\n",
    "kmeans"
   ]
  },
  {
   "cell_type": "code",
   "execution_count": 4,
   "metadata": {},
   "outputs": [
    {
     "data": {
      "text/plain": [
       "[1033495556.0798947,\n",
       " 883472413.8482165,\n",
       " 783476052.4161526,\n",
       " 683493286.5829936,\n",
       " 600158779.0099157,\n",
       " 500169056.0507282,\n",
       " 450148858.8469928,\n",
       " 400150545.1069199,\n",
       " 350130796.82928246,\n",
       " 300133793.1470928,\n",
       " 250149939.90386966,\n",
       " 200127315.1963208,\n",
       " 150138052.813854,\n",
       " 100133634.54263009,\n",
       " 50132405.53985499,\n",
       " 149302.12311320292,\n",
       " 148986.69044917263,\n",
       " 148717.41675212234,\n",
       " 148344.89389596749,\n",
       " 147945.0387595544,\n",
       " 147629.62733674192,\n",
       " 147273.35601630545,\n",
       " 146973.77565181817,\n",
       " 146653.38008388545,\n",
       " 146210.2736234468,\n",
       " 145943.45355722954,\n",
       " 145585.59555688198,\n",
       " 145276.68677271367,\n",
       " 144818.0513752449,\n",
       " 144488.6414557163]"
      ]
     },
     "execution_count": 4,
     "metadata": {},
     "output_type": "execute_result"
    }
   ],
   "source": [
    "wcss=[]\n",
    "for i in range(10, 40):\n",
    "    kmeans = KMeans(n_clusters = i, init = 'k-means++', random_state = 42)\n",
    "    kmeans.fit(x)\n",
    "    wcss.append(kmeans.inertia_)\n",
    "\n",
    "wcss"
   ]
  },
  {
   "cell_type": "code",
   "execution_count": 6,
   "metadata": {},
   "outputs": [
    {
     "data": {
      "text/plain": [
       "[<matplotlib.lines.Line2D at 0x69b8390>]"
      ]
     },
     "execution_count": 6,
     "metadata": {},
     "output_type": "execute_result"
    },
    {
     "data": {
      "image/png": "[encoded data removed]",
      "text/plain": [
       "<Figure size 432x288 with 1 Axes>"
      ]
     },
     "metadata": {
      "needs_background": "light"
     },
     "output_type": "display_data"
    }
   ],
   "source": [
    "import matplotlib.pyplot as plt\n",
    "\n",
    "br = range(10,40)\n",
    "plt.plot(br, wcss)"
   ]
  },
  {
   "cell_type": "code",
   "execution_count": null,
   "metadata": {},
   "outputs": [],
   "source": []
  },
  {
   "cell_type": "code",
   "execution_count": 7,
   "metadata": {},
   "outputs": [],
   "source": [
    "from scipy import stats\n",
    "vr=[]\n",
    "for i in range(30):\n",
    "    vr.append(i+10)\n",
    "\n",
    "y=vr[:]\n",
    "\n",
    "for i in range(30):\n",
    "    y[i]=wcss[i]*vr[i]*vr[i]\n",
    "\n",
    "\n",
    "MNK=stats.linregress(wcss,y)\n",
    "a=MNK.slope\n",
    "b=MNK.intercept\n",
    "linereg=vr[:]\n",
    "for i in range(10,40):\n",
    "    linereg[i-10]=a/i + b/(i*i)\n",
    "\n"
   ]
  },
  {
   "cell_type": "code",
   "execution_count": 8,
   "metadata": {},
   "outputs": [
    {
     "data": {
      "image/png": "[encoded data removed]",
      "text/plain": [
       "<Figure size 432x288 with 1 Axes>"
      ]
     },
     "metadata": {
      "needs_background": "light"
     },
     "output_type": "display_data"
    }
   ],
   "source": [
    "plt.plot(range(15,40), wcss[5:], color=\"g\", linewidth=\"3\")\n",
    "plt.plot(range(15,40), linereg[5:], color=\"r\", linewidth=\"3\")\n",
    "plt.xlabel(\"K - broj clustera\")\n",
    "plt.ylabel(\"WCSS\")\n",
    "plt.show()\n"
   ]
  },
  {
   "cell_type": "code",
   "execution_count": null,
   "metadata": {
    "scrolled": true
   },
   "outputs": [],
   "source": [
    "\n"
   ]
  },
  {
   "cell_type": "code",
   "execution_count": null,
   "metadata": {},
   "outputs": [],
   "source": []
  }
 ],
 "metadata": {
  "kernelspec": {
   "display_name": "Python 2",
   "language": "python",
   "name": "python2"
  },
  "language_info": {
   "codemirror_mode": {
    "name": "ipython",
    "version": 2
   },
   "file_extension": ".py",
   "mimetype": "text/x-python",
   "name": "python",
   "nbconvert_exporter": "python",
   "pygments_lexer": "ipython2",
   "version": "2.7.16"
  }
 },
 "nbformat": 4,
 "nbformat_minor": 2
}
