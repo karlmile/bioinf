{
 "cells": [
  {
   "cell_type": "code",
   "execution_count": 2,
   "metadata": {},
   "outputs": [],
   "source": [
    "import math\n",
    "import random\n",
    "\n",
    "#VIPA\n",
    "def vipa(me,mt,x):\n",
    "    ml=len(me) ## model length, i.e. the no of states\n",
    "    sl=len(x) ### sequence length\n",
    "    tmp=[]\n",
    "    for i in range(sl):\n",
    "        tmp.append(20)\n",
    "    visc=[] ### viterbi score matrix\n",
    "    vpth=[] ### viterbi path matrix\n",
    "    for i in range(ml):\n",
    "        visc.append(tmp[:])\n",
    "        vpth.append(tmp[:])\n",
    "    ### boundary\n",
    "    for i in range(ml):\n",
    "        visc[i][0]= me[i][int(x[0])]\n",
    "    ### loop\n",
    "    for i in range(1,sl):\n",
    "        for j in range(ml):\n",
    "            visc[j][i]=me[j][int(x[i])]+ mt[0][j]+visc[0][i-1]\n",
    "            vpth[j][i]=0\n",
    "            for k in range(ml):\n",
    "                a=me[j][int(x[i])]+ mt[k][j]+visc[k][i-1]\n",
    "                if a>visc[j][i]:\n",
    "                    visc[j][i]=a\n",
    "                    vpth[j][i]=k\n",
    "\n",
    "    op=[] ### our path\n",
    "    tmpv=visc[0][sl-1]\n",
    "    tmpp=0\n",
    "    for k in range(ml):\n",
    "        if visc[k][sl-1]>tmpv:\n",
    "            tmpv=visc[k][sl-1]\n",
    "            tmpp=k\n",
    "    op.append(tmpp)\n",
    "    for i in range(sl-1, 0, -1):\n",
    "        a=vpth[tmpp][i]\n",
    "        op.append(a)\n",
    "        tmpp=a\n",
    "    op.reverse()\n",
    "    return [visc, vpth, op] #Return viterbi score matrix, path matrix and resulting path\n"
   ]
  },
  {
   "cell_type": "code",
   "execution_count": null,
   "metadata": {},
   "outputs": [],
   "source": []
  }
 ],
 "metadata": {
  "kernelspec": {
   "display_name": "Python 2",
   "language": "python",
   "name": "python2"
  },
  "language_info": {
   "codemirror_mode": {
    "name": "ipython",
    "version": 2
   },
   "file_extension": ".py",
   "mimetype": "text/x-python",
   "name": "python",
   "nbconvert_exporter": "python",
   "pygments_lexer": "ipython2",
   "version": "2.7.16"
  }
 },
 "nbformat": 4,
 "nbformat_minor": 2
}
