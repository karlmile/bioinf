{
 "cells": [
  {
   "cell_type": "code",
   "execution_count": 1,
   "metadata": {},
   "outputs": [],
   "source": [
    "import string\n",
    "import math\n",
    "import numpy as np\n",
    "f1=open(\"700cran500medline.txt\", \"r\")\n",
    "a=26+26*26+26*26*26\n",
    "slova=list(string.ascii_lowercase)\n",
    "brojac=[]\n",
    "mat=np.zeros((1200, a))\n",
    "for i in range(1200):\n",
    "    test=f1.readline()\n",
    "    al=test.rstrip()\n",
    "    fc=0\n",
    "    for j in range(len(al)-2):\n",
    "        x=slova.index(al[j])\n",
    "        y=slova.index(al[j+1])\n",
    "        w=slova.index(al[j+2])\n",
    "        mat[i][x]+=1\n",
    "        mat[i][26*(x+1)+y]+=1\n",
    "        mat[i][26*26*(x+1)+26*(y+1)+w]+=1\n",
    "        fc=fc+3\n",
    "    brojac.append(fc)\n",
    "\n",
    "f1.close()\n",
    "\n",
    "\n"
   ]
  },
  {
   "cell_type": "code",
   "execution_count": 2,
   "metadata": {},
   "outputs": [
    {
     "data": {
      "text/plain": [
       "array([66.,  7., 19., 26., 96., 32., 16., 21., 64.,  0.,  1., 35., 20.,\n",
       "       51., 44., 22.,  0., 50., 44., 84., 15.,  7., 14.,  3.,  7.,  0.,\n",
       "        0.,  0.,  2.,  4.,  1.,  1.,  1.,  0.,  1.,  0.,  0., 11.,  7.,\n",
       "        8.,  0.,  2.,  0.,  4.,  9., 12.,  0.,  0.,  2.,  0.])"
      ]
     },
     "execution_count": 2,
     "metadata": {},
     "output_type": "execute_result"
    }
   ],
   "source": [
    "mat[0][0:50]"
   ]
  },
  {
   "cell_type": "code",
   "execution_count": 3,
   "metadata": {},
   "outputs": [],
   "source": [
    "rfr=np.zeros((1200, a))\n",
    "for i in range(1200):\n",
    "    for j in range(a):\n",
    "        rfr[i][j]=mat[i][j]*1.0/brojac[i]\n",
    "\n",
    "\n",
    "ufr=np.zeros(a) ## total frequency\n",
    "for i in range(a):\n",
    "    for j in range(1200):\n",
    "        ufr[i]=ufr[i]+rfr[j][i]\n",
    "for i in range(a): ## average total frequency\n",
    "    ufr[i]=ufr[i]/1200\n",
    "\n",
    "lfr=np.zeros((1200,a)) ## log-ratio\n",
    "for i in range(1200):\n",
    "    for j in range(a):\n",
    "        lfr[i][j]=math.log((rfr[i][j]+1)/(ufr[j]+1))\n"
   ]
  },
  {
   "cell_type": "code",
   "execution_count": 4,
   "metadata": {},
   "outputs": [
    {
     "data": {
      "text/plain": [
       "array([ 2.30260577e-03, -1.86055861e-03, -4.13771846e-03, -7.71553730e-04,\n",
       "        1.96759247e-03,  4.82206000e-03,  1.91381043e-03, -3.74074284e-03,\n",
       "        1.71901022e-03, -2.92278167e-04, -3.43942064e-04,  1.41836029e-03,\n",
       "        4.38404799e-04, -1.60133751e-03, -5.42352232e-03,  1.67691470e-03,\n",
       "       -4.60578262e-04,  5.25635065e-04, -2.46109376e-03,  7.24357546e-03,\n",
       "       -2.60982374e-03, -3.22080844e-04,  2.17647439e-03,  1.57694983e-04,\n",
       "       -2.16651064e-03, -3.98022602e-04, -1.04606936e-04, -5.88548466e-04,\n",
       "       -7.06170499e-04,  1.04462808e-03,  3.18217556e-04,  1.56052565e-04,\n",
       "       -1.46601359e-04, -6.31341610e-05, -2.96279023e-04, -2.38974164e-05,\n",
       "       -1.12797617e-04,  1.52840020e-03,  2.23639228e-03, -1.13939450e-03,\n",
       "       -9.02856794e-05,  8.23430499e-05, -1.03828855e-05, -1.48490842e-03,\n",
       "        1.61897479e-03,  1.64308249e-04, -2.02467253e-04, -4.48049526e-04,\n",
       "        7.54005006e-04, -9.38252754e-05])"
      ]
     },
     "execution_count": 4,
     "metadata": {},
     "output_type": "execute_result"
    }
   ],
   "source": [
    "lfr[0][0:50]"
   ]
  },
  {
   "cell_type": "code",
   "execution_count": 5,
   "metadata": {},
   "outputs": [],
   "source": [
    "prosjek1=np.zeros(a)\n",
    "for i in range(a):\n",
    "    suma=0\n",
    "    for j in range(100):\n",
    "        suma = suma + mat[j][i]\n",
    "    prosjek1[i]=suma/100\n",
    "    \n",
    "prosjek2=np.zeros(a)\n",
    "for i in range(a):\n",
    "    suma=0\n",
    "    for j in range(100):\n",
    "        suma = suma + mat[j+700][i]\n",
    "    prosjek2[i]=suma/100\n",
    "    \n",
    "    \n"
   ]
  },
  {
   "cell_type": "code",
   "execution_count": 7,
   "metadata": {},
   "outputs": [
    {
     "name": "stdout",
     "output_type": "stream",
     "text": [
      "3024\n",
      "2255\n",
      "*\n",
      "2862\n",
      "2418\n",
      "*\n",
      "2733\n",
      "2547\n",
      "*\n",
      "2650\n",
      "2630\n",
      "*\n",
      "2653\n",
      "2626\n",
      "*\n",
      "2923\n",
      "2355\n",
      "*\n",
      "2780\n",
      "2497\n",
      "*\n",
      "2692\n",
      "2588\n",
      "*\n",
      "2807\n",
      "2472\n",
      "*\n",
      "2637\n",
      "2643\n",
      "*\n",
      "2632\n",
      "2647\n",
      "*\n",
      "2779\n",
      "2500\n",
      "*\n",
      "2878\n",
      "2401\n",
      "*\n",
      "2671\n",
      "2607\n",
      "*\n",
      "2921\n",
      "2356\n",
      "*\n",
      "2922\n",
      "2358\n",
      "*\n",
      "2816\n",
      "2463\n",
      "*\n",
      "2850\n",
      "2427\n",
      "*\n",
      "2731\n",
      "2547\n",
      "*\n",
      "2680\n",
      "2599\n",
      "*\n",
      "2666\n",
      "2614\n",
      "*\n",
      "2996\n",
      "2283\n",
      "*\n",
      "2888\n",
      "2391\n",
      "*\n",
      "2915\n",
      "2363\n",
      "*\n",
      "2682\n",
      "2598\n",
      "*\n",
      "2746\n",
      "2532\n",
      "*\n",
      "2725\n",
      "2551\n",
      "*\n",
      "2658\n",
      "2622\n",
      "*\n",
      "3032\n",
      "2247\n",
      "*\n",
      "2819\n",
      "2459\n",
      "*\n",
      "2587\n",
      "2692\n",
      "*\n",
      "2675\n",
      "2605\n",
      "*\n",
      "2586\n",
      "2693\n",
      "*\n",
      "2571\n",
      "2708\n",
      "*\n",
      "2650\n",
      "2628\n",
      "*\n",
      "2684\n",
      "2595\n",
      "*\n",
      "2586\n",
      "2693\n",
      "*\n",
      "2628\n",
      "2651\n",
      "*\n",
      "2614\n",
      "2666\n",
      "*\n",
      "2548\n",
      "2731\n",
      "*\n",
      "2601\n",
      "2677\n",
      "*\n",
      "2710\n",
      "2570\n",
      "*\n",
      "2565\n",
      "2713\n",
      "*\n",
      "2692\n",
      "2588\n",
      "*\n",
      "2637\n",
      "2640\n",
      "*\n",
      "2625\n",
      "2653\n",
      "*\n",
      "2702\n",
      "2577\n",
      "*\n",
      "2538\n",
      "2742\n",
      "*\n",
      "2546\n",
      "2734\n",
      "*\n",
      "2661\n",
      "2618\n",
      "*\n"
     ]
    }
   ],
   "source": [
    "klasa1=np.zeros(600)\n",
    "for i in range(600):\n",
    "    provjeri1=0\n",
    "    provjeri2=0\n",
    "    for j in range(a):\n",
    "        if(abs(mat[i+100][j]-prosjek1[j]) < abs(mat[i+100][j]-prosjek2[j])):\n",
    "            provjeri1+=1\n",
    "        elif(abs(mat[i+100][j]-prosjek1[j]) > abs(mat[i+100][j]-prosjek2[j])):\n",
    "            provjeri2+=1\n",
    "    if(i%20==0): \n",
    "        print(provjeri1)\n",
    "        print(provjeri2)\n",
    "        print(\"*\")\n",
    "    if(provjeri1>provjeri2):\n",
    "        klasa1[i]=1\n",
    "    else:\n",
    "        klasa1[i]=2\n",
    "\n",
    "klasa2=np.zeros(400)\n",
    "for i in range(400):\n",
    "    provjeri1=0\n",
    "    provjeri2=0\n",
    "    for j in range(a):\n",
    "        if(abs(mat[i+800][j]-prosjek1[j]) < abs(mat[i+800][j]-prosjek2[j])):\n",
    "            provjeri1+=1\n",
    "        elif(abs(mat[i+800][j]-prosjek1[j]) > abs(mat[i+800][j]-prosjek2[j])):\n",
    "            provjeri2+=1\n",
    "    if(i%20==0): \n",
    "        print(provjeri1)\n",
    "        print(provjeri2)\n",
    "        print(\"*\")\n",
    "    if(provjeri1>provjeri2): \n",
    "        klasa2[i]=1\n",
    "    else:\n",
    "        klasa2[i]=2\n"
   ]
  },
  {
   "cell_type": "code",
   "execution_count": 8,
   "metadata": {},
   "outputs": [
    {
     "data": {
      "text/plain": [
       "array([1., 1., 1., 1., 1., 1., 1., 1., 1., 1., 1., 1., 1., 1., 1., 1., 1.,\n",
       "       1., 1., 1., 1., 1., 1., 1., 1., 1., 1., 1., 1., 1., 1., 1., 1., 1.,\n",
       "       1., 1., 2., 1., 1., 1., 1., 1., 1., 1., 1., 1., 1., 1., 1., 1., 1.,\n",
       "       1., 2., 1., 1., 1., 1., 1., 1., 1., 1., 1., 1., 1., 1., 1., 1., 1.,\n",
       "       1., 1., 1., 1., 1., 1., 1., 1., 1., 1., 1., 1., 1., 1., 1., 1., 1.,\n",
       "       1., 1., 1., 1., 1., 1., 1., 1., 1., 1., 1., 1., 1., 1., 1., 1., 1.,\n",
       "       1., 1., 1., 1., 1., 1., 1., 1., 1., 1., 1., 1., 1., 1., 1., 1., 1.,\n",
       "       1., 1., 1., 1., 1., 1., 1., 1., 1., 1., 1., 1., 1., 1., 1., 1., 1.,\n",
       "       1., 1., 1., 1., 1., 1., 1., 1., 1., 1., 1., 1., 1., 2., 1., 1., 1.,\n",
       "       1., 1., 1., 1., 1., 1., 1., 1., 1., 1., 1., 1., 1., 1., 1., 1., 1.,\n",
       "       1., 1., 1., 1., 1., 1., 1., 1., 1., 1., 2., 1., 1., 1., 1., 1., 1.,\n",
       "       1., 1., 1., 1., 1., 1., 1., 1., 1., 1., 1., 1., 1., 2., 1., 1., 1.,\n",
       "       1., 1., 1., 1., 1., 1., 1., 1., 1., 1., 1., 1., 1., 1., 1., 2., 1.,\n",
       "       1., 1., 1., 1., 1., 1., 1., 1., 1., 1., 1., 1., 1., 1., 1., 1., 1.,\n",
       "       1., 1., 1., 1., 1., 1., 1., 1., 1., 1., 1., 1., 1., 1., 1., 1., 1.,\n",
       "       1., 1., 1., 1., 1., 1., 1., 1., 1., 1., 1., 1., 1., 1., 1., 1., 1.,\n",
       "       1., 1., 1., 1., 1., 1., 1., 1., 1., 1., 1., 1., 2., 1., 1., 1., 1.,\n",
       "       1., 1., 1., 1., 1., 1., 1., 1., 1., 2., 1., 1., 1., 1., 1., 2., 1.,\n",
       "       1., 1., 1., 1., 1., 1., 1., 1., 1., 1., 1., 1., 1., 1., 1., 1., 1.,\n",
       "       1., 1., 1., 1., 1., 2., 1., 1., 1., 1., 1., 1., 2., 1., 1., 1., 1.,\n",
       "       1., 1., 1., 1., 1., 1., 1., 1., 1., 1., 1., 1., 1., 1., 1., 1., 1.,\n",
       "       1., 1., 1., 1., 1., 1., 1., 1., 1., 1., 1., 1., 1., 1., 1., 1., 1.,\n",
       "       1., 1., 1., 1., 1., 1., 1., 1., 1., 1., 1., 1., 1., 1., 1., 1., 1.,\n",
       "       1., 1., 1., 1., 1., 1., 1., 1., 1., 1., 1., 1., 1., 1., 2., 1., 2.,\n",
       "       2., 1., 1., 1., 1., 1., 1., 1., 1., 1., 1., 1., 1., 1., 1., 1., 1.,\n",
       "       1., 1., 1., 1., 1., 2., 2., 1., 1., 1., 1., 1., 1., 1., 1., 1., 1.,\n",
       "       1., 1., 1., 1., 1., 1., 1., 2., 1., 1., 1., 1., 1., 1., 1., 1., 1.,\n",
       "       1., 1., 1., 1., 1., 1., 1., 1., 1., 1., 1., 1., 1., 1., 1., 1., 1.,\n",
       "       1., 1., 1., 1., 1., 1., 1., 1., 1., 1., 1., 1., 1., 1., 1., 1., 1.,\n",
       "       1., 1., 1., 1., 1., 1., 1., 1., 1., 1., 1., 1., 1., 1., 1., 1., 1.,\n",
       "       1., 1., 1., 1., 1., 1., 1., 2., 1., 1., 1., 1., 1., 1., 1., 1., 1.,\n",
       "       1., 1., 1., 1., 1., 1., 1., 1., 1., 1., 1., 1., 1., 1., 1., 1., 1.,\n",
       "       1., 1., 1., 1., 1., 1., 1., 1., 1., 1., 1., 1., 1., 1., 1., 1., 1.,\n",
       "       1., 1., 1., 1., 1., 1., 1., 1., 1., 1., 1., 1., 1., 1., 1., 1., 1.,\n",
       "       1., 1., 1., 1., 1., 1., 1., 1., 1., 1., 1., 1., 1., 1., 1., 1., 1.,\n",
       "       1., 1., 1., 1., 1.])"
      ]
     },
     "execution_count": 8,
     "metadata": {},
     "output_type": "execute_result"
    }
   ],
   "source": [
    "klasa1"
   ]
  },
  {
   "cell_type": "code",
   "execution_count": 9,
   "metadata": {},
   "outputs": [
    {
     "data": {
      "text/plain": [
       "array([2., 1., 2., 1., 2., 2., 1., 1., 2., 1., 2., 1., 1., 1., 2., 1., 2.,\n",
       "       1., 2., 2., 1., 1., 1., 2., 2., 1., 1., 1., 2., 2., 1., 2., 2., 2.,\n",
       "       1., 2., 1., 2., 2., 2., 2., 1., 2., 1., 2., 1., 2., 2., 2., 2., 1.,\n",
       "       2., 2., 1., 1., 2., 2., 2., 2., 2., 2., 1., 1., 2., 2., 2., 2., 2.,\n",
       "       2., 2., 2., 1., 2., 2., 2., 1., 2., 2., 2., 2., 1., 2., 2., 2., 2.,\n",
       "       2., 1., 2., 2., 1., 2., 1., 2., 1., 1., 1., 1., 1., 1., 1., 1., 2.,\n",
       "       1., 1., 1., 1., 2., 1., 2., 2., 2., 1., 1., 2., 1., 2., 2., 1., 2.,\n",
       "       2., 2., 2., 2., 2., 2., 2., 2., 1., 2., 2., 2., 2., 2., 2., 2., 2.,\n",
       "       2., 2., 1., 2., 2., 1., 1., 1., 1., 2., 2., 2., 2., 2., 1., 1., 2.,\n",
       "       2., 1., 2., 2., 2., 1., 1., 2., 2., 2., 1., 1., 2., 1., 2., 2., 2.,\n",
       "       2., 2., 2., 2., 1., 2., 2., 1., 2., 1., 2., 1., 1., 2., 2., 2., 1.,\n",
       "       2., 2., 2., 1., 1., 1., 2., 1., 1., 2., 1., 2., 1., 2., 2., 2., 2.,\n",
       "       1., 1., 2., 2., 1., 1., 1., 1., 1., 1., 1., 2., 1., 2., 2., 2., 1.,\n",
       "       1., 1., 1., 2., 1., 2., 2., 1., 2., 1., 2., 2., 1., 2., 2., 2., 2.,\n",
       "       1., 2., 2., 1., 2., 2., 2., 1., 1., 1., 2., 2., 1., 2., 1., 2., 1.,\n",
       "       1., 2., 1., 2., 2., 1., 1., 2., 2., 2., 2., 2., 1., 2., 2., 2., 2.,\n",
       "       2., 2., 2., 2., 2., 1., 1., 1., 2., 2., 2., 1., 1., 1., 2., 1., 2.,\n",
       "       1., 2., 1., 1., 2., 1., 2., 2., 2., 1., 2., 2., 2., 2., 2., 2., 2.,\n",
       "       2., 1., 2., 1., 2., 2., 2., 2., 1., 2., 2., 1., 2., 1., 1., 1., 2.,\n",
       "       2., 1., 1., 1., 1., 2., 1., 2., 2., 1., 1., 1., 2., 2., 1., 2., 2.,\n",
       "       2., 2., 2., 2., 2., 2., 2., 2., 2., 2., 2., 2., 2., 2., 2., 2., 2.,\n",
       "       2., 2., 1., 2., 2., 2., 2., 1., 2., 2., 2., 2., 2., 1., 1., 1., 1.,\n",
       "       2., 1., 1., 1., 2., 1., 1., 1., 2., 2., 1., 2., 2., 1., 2., 1., 2.,\n",
       "       1., 2., 2., 1., 1., 2., 2., 1., 2.])"
      ]
     },
     "execution_count": 9,
     "metadata": {},
     "output_type": "execute_result"
    }
   ],
   "source": [
    "klasa2"
   ]
  },
  {
   "cell_type": "code",
   "execution_count": 13,
   "metadata": {},
   "outputs": [
    {
     "data": {
      "text/plain": [
       "Counter({1.0: 582, 2.0: 18})"
      ]
     },
     "execution_count": 13,
     "metadata": {},
     "output_type": "execute_result"
    }
   ],
   "source": [
    "import collections\n",
    "counter = collections.Counter(klasa1)\n",
    "counter"
   ]
  },
  {
   "cell_type": "code",
   "execution_count": 14,
   "metadata": {},
   "outputs": [
    {
     "data": {
      "text/plain": [
       "Counter({2.0: 245, 1.0: 155})"
      ]
     },
     "execution_count": 14,
     "metadata": {},
     "output_type": "execute_result"
    }
   ],
   "source": [
    "counter = collections.Counter(klasa2)\n",
    "counter"
   ]
  },
  {
   "cell_type": "code",
   "execution_count": 20,
   "metadata": {},
   "outputs": [
    {
     "data": {
      "text/plain": [
       "array([4.34924515, 2.73890266, 3.50375397, ..., 0.        , 0.        ,\n",
       "       0.        ])"
      ]
     },
     "execution_count": 20,
     "metadata": {},
     "output_type": "execute_result"
    }
   ],
   "source": [
    "lprosjek1=np.zeros(a)\n",
    "for j in range(a):\n",
    "        lprosjek1[j]=math.log(prosjek1[j]+1)\n",
    "lprosjek1"
   ]
  },
  {
   "cell_type": "code",
   "execution_count": 21,
   "metadata": {},
   "outputs": [
    {
     "data": {
      "text/plain": [
       "array([4.14154616, 2.48823444, 3.43301899, ..., 0.        , 0.        ,\n",
       "       0.        ])"
      ]
     },
     "execution_count": 21,
     "metadata": {},
     "output_type": "execute_result"
    }
   ],
   "source": [
    "lprosjek2=np.zeros(a)\n",
    "for j in range(a):\n",
    "        lprosjek2[j]=math.log(prosjek2[j]+1)\n",
    "lprosjek2"
   ]
  },
  {
   "cell_type": "code",
   "execution_count": 22,
   "metadata": {},
   "outputs": [
    {
     "name": "stdout",
     "output_type": "stream",
     "text": [
      "2581\n",
      "2699\n",
      "*\n",
      "2581\n",
      "2699\n",
      "*\n",
      "2581\n",
      "2699\n",
      "*\n",
      "2581\n",
      "2699\n",
      "*\n",
      "2581\n",
      "2699\n",
      "*\n",
      "2581\n",
      "2699\n",
      "*\n",
      "2581\n",
      "2699\n",
      "*\n",
      "2581\n",
      "2699\n",
      "*\n",
      "2581\n",
      "2699\n",
      "*\n",
      "2581\n",
      "2699\n",
      "*\n",
      "2581\n",
      "2699\n",
      "*\n",
      "2581\n",
      "2699\n",
      "*\n",
      "2581\n",
      "2699\n",
      "*\n",
      "2581\n",
      "2699\n",
      "*\n",
      "2581\n",
      "2699\n",
      "*\n",
      "2581\n",
      "2699\n",
      "*\n",
      "2581\n",
      "2699\n",
      "*\n",
      "2581\n",
      "2699\n",
      "*\n",
      "2581\n",
      "2699\n",
      "*\n",
      "2581\n",
      "2699\n",
      "*\n",
      "2581\n",
      "2699\n",
      "*\n",
      "2581\n",
      "2699\n",
      "*\n",
      "2581\n",
      "2699\n",
      "*\n",
      "2581\n",
      "2699\n",
      "*\n",
      "2581\n",
      "2699\n",
      "*\n",
      "2581\n",
      "2699\n",
      "*\n",
      "2581\n",
      "2699\n",
      "*\n",
      "2581\n",
      "2699\n",
      "*\n",
      "2581\n",
      "2699\n",
      "*\n",
      "2581\n",
      "2699\n",
      "*\n",
      "2581\n",
      "2699\n",
      "*\n",
      "2581\n",
      "2699\n",
      "*\n",
      "2581\n",
      "2699\n",
      "*\n",
      "2581\n",
      "2699\n",
      "*\n",
      "2581\n",
      "2699\n",
      "*\n",
      "2581\n",
      "2699\n",
      "*\n",
      "2583\n",
      "2697\n",
      "*\n",
      "2581\n",
      "2699\n",
      "*\n",
      "2581\n",
      "2699\n",
      "*\n",
      "2581\n",
      "2699\n",
      "*\n",
      "2581\n",
      "2699\n",
      "*\n",
      "2581\n",
      "2699\n",
      "*\n",
      "2581\n",
      "2699\n",
      "*\n",
      "2581\n",
      "2699\n",
      "*\n",
      "2581\n",
      "2699\n",
      "*\n",
      "2581\n",
      "2699\n",
      "*\n",
      "2581\n",
      "2699\n",
      "*\n",
      "2581\n",
      "2699\n",
      "*\n",
      "2581\n",
      "2699\n",
      "*\n",
      "2581\n",
      "2699\n",
      "*\n"
     ]
    }
   ],
   "source": [
    "klasa1=np.zeros(600)\n",
    "for i in range(600):\n",
    "    provjeri1=0\n",
    "    provjeri2=0\n",
    "    for j in range(a):\n",
    "        if(abs(lfr[i+100][j]-lprosjek1[j]) < abs(lfr[i+100][j]-lprosjek2[j])):\n",
    "            provjeri1+=1\n",
    "        elif(abs(lfr[i+100][j]-lprosjek1[j]) > abs(lfr[i+100][j]-lprosjek2[j])):\n",
    "            provjeri2+=1\n",
    "    if(i%20==0): \n",
    "        print(provjeri1)\n",
    "        print(provjeri2)\n",
    "        print(\"*\")\n",
    "    if(provjeri1>provjeri2):\n",
    "        klasa1[i]=1\n",
    "    else:\n",
    "        klasa1[i]=2\n",
    "\n",
    "klasa2=np.zeros(400)\n",
    "for i in range(400):\n",
    "    provjeri1=0\n",
    "    provjeri2=0\n",
    "    for j in range(a):\n",
    "        if(abs(lfr[i+800][j]-lprosjek1[j]) < abs(lfr[i+800][j]-lprosjek2[j])):\n",
    "            provjeri1+=1\n",
    "        elif(abs(lfr[i+800][j]-lprosjek1[j]) > abs(lfr[i+800][j]-lprosjek2[j])):\n",
    "            provjeri2+=1\n",
    "    if(i%20==0): \n",
    "        print(provjeri1)\n",
    "        print(provjeri2)\n",
    "        print(\"*\")\n",
    "    if(provjeri1>provjeri2): \n",
    "        klasa2[i]=1\n",
    "    else:\n",
    "        klasa2[i]=2\n"
   ]
  },
  {
   "cell_type": "code",
   "execution_count": 23,
   "metadata": {},
   "outputs": [
    {
     "data": {
      "text/plain": [
       "array([2., 2., 2., 2., 2., 2., 2., 2., 2., 2., 2., 2., 2., 2., 2., 2., 2.,\n",
       "       2., 2., 2., 2., 2., 2., 2., 2., 2., 2., 2., 2., 2., 2., 2., 2., 2.,\n",
       "       2., 2., 2., 2., 2., 2., 2., 2., 2., 2., 2., 2., 2., 2., 2., 2., 2.,\n",
       "       2., 2., 2., 2., 2., 2., 2., 2., 2., 2., 2., 2., 2., 2., 2., 2., 2.,\n",
       "       2., 2., 2., 2., 2., 2., 2., 2., 2., 2., 2., 2., 2., 2., 2., 2., 2.,\n",
       "       2., 2., 2., 2., 2., 2., 2., 2., 2., 2., 2., 2., 2., 2., 2., 2., 2.,\n",
       "       2., 2., 2., 2., 2., 2., 2., 2., 2., 2., 2., 2., 2., 2., 2., 2., 2.,\n",
       "       2., 2., 2., 2., 2., 2., 2., 2., 2., 2., 2., 2., 2., 2., 2., 2., 2.,\n",
       "       2., 2., 2., 2., 2., 2., 2., 2., 2., 2., 2., 2., 2., 2., 2., 2., 2.,\n",
       "       2., 2., 2., 2., 2., 2., 2., 2., 2., 2., 2., 2., 2., 2., 2., 2., 2.,\n",
       "       2., 2., 2., 2., 2., 2., 2., 2., 2., 2., 2., 2., 2., 2., 2., 2., 2.,\n",
       "       2., 2., 2., 2., 2., 2., 2., 2., 2., 2., 2., 2., 2., 2., 2., 2., 2.,\n",
       "       2., 2., 2., 2., 2., 2., 2., 2., 2., 2., 2., 2., 2., 2., 2., 2., 2.,\n",
       "       2., 2., 2., 2., 2., 2., 2., 2., 2., 2., 2., 2., 2., 2., 2., 2., 2.,\n",
       "       2., 2., 2., 2., 2., 2., 2., 2., 2., 2., 2., 2., 2., 2., 2., 2., 2.,\n",
       "       2., 2., 2., 2., 2., 2., 2., 2., 2., 2., 2., 2., 2., 2., 2., 2., 2.,\n",
       "       2., 2., 2., 2., 2., 2., 2., 2., 2., 2., 2., 2., 2., 2., 2., 2., 2.,\n",
       "       2., 2., 2., 2., 2., 2., 2., 2., 2., 2., 2., 2., 2., 2., 2., 2., 2.,\n",
       "       2., 2., 2., 2., 2., 2., 2., 2., 2., 2., 2., 2., 2., 2., 2., 2., 2.,\n",
       "       2., 2., 2., 2., 2., 2., 2., 2., 2., 2., 2., 2., 2., 2., 2., 2., 2.,\n",
       "       2., 2., 2., 2., 2., 2., 2., 2., 2., 2., 2., 2., 2., 2., 2., 2., 2.,\n",
       "       2., 2., 2., 2., 2., 2., 2., 2., 2., 2., 2., 2., 2., 2., 2., 2., 2.,\n",
       "       2., 2., 2., 2., 2., 2., 2., 2., 2., 2., 2., 2., 2., 2., 2., 2., 2.,\n",
       "       2., 2., 2., 2., 2., 2., 2., 2., 2., 2., 2., 2., 2., 2., 2., 2., 2.,\n",
       "       2., 2., 2., 2., 2., 2., 2., 2., 2., 2., 2., 2., 2., 2., 2., 2., 2.,\n",
       "       2., 2., 2., 2., 2., 2., 2., 2., 2., 2., 2., 2., 2., 2., 2., 2., 2.,\n",
       "       2., 2., 2., 2., 2., 2., 2., 2., 2., 2., 2., 2., 2., 2., 2., 2., 2.,\n",
       "       2., 2., 2., 2., 2., 2., 2., 2., 2., 2., 2., 2., 2., 2., 2., 2., 2.,\n",
       "       2., 2., 2., 2., 2., 2., 2., 2., 2., 2., 2., 2., 2., 2., 2., 2., 2.,\n",
       "       2., 2., 2., 2., 2., 2., 2., 2., 2., 2., 2., 2., 2., 2., 2., 2., 2.,\n",
       "       2., 2., 2., 2., 2., 2., 2., 2., 2., 2., 2., 2., 2., 2., 2., 2., 2.,\n",
       "       2., 2., 2., 2., 2., 2., 2., 2., 2., 2., 2., 2., 2., 2., 2., 2., 2.,\n",
       "       2., 2., 2., 2., 2., 2., 2., 2., 2., 2., 2., 2., 2., 2., 2., 2., 2.,\n",
       "       2., 2., 2., 2., 2., 2., 2., 2., 2., 2., 2., 2., 2., 2., 2., 2., 2.,\n",
       "       2., 2., 2., 2., 2., 2., 2., 2., 2., 2., 2., 2., 2., 2., 2., 2., 2.,\n",
       "       2., 2., 2., 2., 2.])"
      ]
     },
     "execution_count": 23,
     "metadata": {},
     "output_type": "execute_result"
    }
   ],
   "source": [
    "klasa1"
   ]
  },
  {
   "cell_type": "code",
   "execution_count": 24,
   "metadata": {},
   "outputs": [
    {
     "data": {
      "text/plain": [
       "array([2., 2., 2., 2., 2., 2., 2., 2., 2., 2., 2., 2., 2., 2., 2., 2., 2.,\n",
       "       2., 2., 2., 2., 2., 2., 2., 2., 2., 2., 2., 2., 2., 2., 2., 2., 2.,\n",
       "       2., 2., 2., 2., 2., 2., 2., 2., 2., 2., 2., 2., 2., 2., 2., 2., 2.,\n",
       "       2., 2., 2., 2., 2., 2., 2., 2., 2., 2., 2., 2., 2., 2., 2., 2., 2.,\n",
       "       2., 2., 2., 2., 2., 2., 2., 2., 2., 2., 2., 2., 2., 2., 2., 2., 2.,\n",
       "       2., 2., 2., 2., 2., 2., 2., 2., 2., 2., 2., 2., 2., 2., 2., 2., 2.,\n",
       "       2., 2., 2., 2., 2., 2., 2., 2., 2., 2., 2., 2., 2., 2., 2., 2., 2.,\n",
       "       2., 2., 2., 2., 2., 2., 2., 2., 2., 2., 2., 2., 2., 2., 2., 2., 2.,\n",
       "       2., 2., 2., 2., 2., 2., 2., 2., 2., 2., 2., 2., 2., 2., 2., 2., 2.,\n",
       "       2., 2., 2., 2., 2., 2., 2., 2., 2., 2., 2., 2., 2., 2., 2., 2., 2.,\n",
       "       2., 2., 2., 2., 2., 2., 2., 2., 2., 2., 2., 2., 2., 2., 2., 2., 2.,\n",
       "       2., 2., 2., 2., 2., 2., 2., 2., 2., 2., 2., 2., 2., 2., 2., 2., 2.,\n",
       "       2., 2., 2., 2., 2., 2., 2., 2., 2., 2., 2., 2., 2., 2., 2., 2., 2.,\n",
       "       2., 2., 2., 2., 2., 2., 2., 2., 2., 2., 2., 2., 2., 2., 2., 2., 2.,\n",
       "       2., 2., 2., 2., 2., 2., 2., 2., 2., 2., 2., 2., 2., 2., 2., 2., 2.,\n",
       "       2., 2., 2., 2., 2., 2., 2., 2., 2., 2., 2., 2., 2., 2., 2., 2., 2.,\n",
       "       2., 2., 2., 2., 2., 2., 2., 2., 2., 2., 2., 2., 2., 2., 2., 2., 2.,\n",
       "       2., 2., 2., 2., 2., 2., 2., 2., 2., 2., 2., 2., 2., 2., 2., 2., 2.,\n",
       "       2., 2., 2., 2., 2., 2., 2., 2., 2., 2., 2., 2., 2., 2., 2., 2., 2.,\n",
       "       2., 2., 2., 2., 2., 2., 2., 2., 2., 2., 2., 2., 2., 2., 2., 2., 2.,\n",
       "       2., 2., 2., 2., 2., 2., 2., 2., 2., 2., 2., 2., 2., 2., 2., 2., 2.,\n",
       "       2., 2., 2., 2., 2., 2., 2., 2., 2., 2., 2., 2., 2., 2., 2., 2., 2.,\n",
       "       2., 2., 2., 2., 2., 2., 2., 2., 2., 2., 2., 2., 2., 2., 2., 2., 2.,\n",
       "       2., 2., 2., 2., 2., 2., 2., 2., 2.])"
      ]
     },
     "execution_count": 24,
     "metadata": {},
     "output_type": "execute_result"
    }
   ],
   "source": [
    "klasa2"
   ]
  },
  {
   "cell_type": "code",
   "execution_count": 90,
   "metadata": {},
   "outputs": [],
   "source": [
    "U, SIGMA, V = np.linalg.svd(mat, full_matrices=False)\n",
    "\n"
   ]
  },
  {
   "cell_type": "code",
   "execution_count": 96,
   "metadata": {},
   "outputs": [
    {
     "data": {
      "text/plain": [
       "18278"
      ]
     },
     "execution_count": 96,
     "metadata": {},
     "output_type": "execute_result"
    }
   ],
   "source": [
    "mat.shape\n",
    "a"
   ]
  },
  {
   "cell_type": "code",
   "execution_count": 94,
   "metadata": {},
   "outputs": [],
   "source": [
    "SIGMA=np.diag(SIGMA)"
   ]
  },
  {
   "cell_type": "code",
   "execution_count": 95,
   "metadata": {},
   "outputs": [
    {
     "data": {
      "text/plain": [
       "(1200, 1200)"
      ]
     },
     "execution_count": 95,
     "metadata": {},
     "output_type": "execute_result"
    }
   ],
   "source": [
    "SIGMA.shape"
   ]
  },
  {
   "cell_type": "code",
   "execution_count": 102,
   "metadata": {},
   "outputs": [
    {
     "data": {
      "text/plain": [
       "(1200, 18278)"
      ]
     },
     "execution_count": 102,
     "metadata": {},
     "output_type": "execute_result"
    }
   ],
   "source": [
    "V.shape"
   ]
  },
  {
   "cell_type": "code",
   "execution_count": 104,
   "metadata": {},
   "outputs": [
    {
     "data": {
      "text/plain": [
       "(1200, 1200)"
      ]
     },
     "execution_count": 104,
     "metadata": {},
     "output_type": "execute_result"
    }
   ],
   "source": [
    "U.shape"
   ]
  },
  {
   "cell_type": "code",
   "execution_count": 38,
   "metadata": {},
   "outputs": [
    {
     "data": {
      "text/plain": [
       "array([[9097.53798163,    0.        ,    0.        , ...,    0.        ,\n",
       "           0.        ,    0.        ],\n",
       "       [   0.        ,  608.74762115,    0.        , ...,    0.        ,\n",
       "           0.        ,    0.        ],\n",
       "       [   0.        ,    0.        ,  530.27481046, ...,    0.        ,\n",
       "           0.        ,    0.        ],\n",
       "       ...,\n",
       "       [   0.        ,    0.        ,    0.        , ...,    0.        ,\n",
       "           0.        ,    0.        ],\n",
       "       [   0.        ,    0.        ,    0.        , ...,    0.        ,\n",
       "           0.        ,    0.        ],\n",
       "       [   0.        ,    0.        ,    0.        , ...,    0.        ,\n",
       "           0.        ,    0.        ]])"
      ]
     },
     "execution_count": 38,
     "metadata": {},
     "output_type": "execute_result"
    }
   ],
   "source": [
    "SIGMA[0:50][0:50]"
   ]
  },
  {
   "cell_type": "code",
   "execution_count": 97,
   "metadata": {},
   "outputs": [
    {
     "data": {
      "text/plain": [
       "array([9.09753798e+03, 6.08747621e+02, 5.30274810e+02, ...,\n",
       "       4.96512826e+00, 3.94647921e+00, 1.10564886e+00])"
      ]
     },
     "execution_count": 97,
     "metadata": {},
     "output_type": "execute_result"
    }
   ],
   "source": [
    "eigenvalues=np.zeros(len(SIGMA))\n",
    "for i in range(len(SIGMA)):\n",
    "    eigenvalues[i]=SIGMA[i][i]\n",
    "eigenvalues"
   ]
  },
  {
   "cell_type": "code",
   "execution_count": 42,
   "metadata": {},
   "outputs": [
    {
     "data": {
      "text/plain": [
       "1200"
      ]
     },
     "execution_count": 42,
     "metadata": {},
     "output_type": "execute_result"
    }
   ],
   "source": [
    "len(eigenvalues)"
   ]
  },
  {
   "cell_type": "code",
   "execution_count": 45,
   "metadata": {},
   "outputs": [
    {
     "data": {
      "text/plain": [
       "array([0.000e+00, 1.000e+00, 2.000e+00, ..., 1.197e+03, 1.198e+03,\n",
       "       1.199e+03])"
      ]
     },
     "execution_count": 45,
     "metadata": {},
     "output_type": "execute_result"
    }
   ],
   "source": [
    "seq=np.linspace(0, 1199, num=1200)\n",
    "seq"
   ]
  },
  {
   "cell_type": "code",
   "execution_count": 47,
   "metadata": {},
   "outputs": [
    {
     "data": {
      "image/png": "[encoded data removed]",
      "text/plain": [
       "<Figure size 432x288 with 1 Axes>"
      ]
     },
     "metadata": {
      "needs_background": "light"
     },
     "output_type": "display_data"
    }
   ],
   "source": [
    "import matplotlib.pyplot as plt\n",
    "fig, ax = plt.subplots()\n",
    "ax.scatter(seq, eigenvalues)\n",
    "plt.show()"
   ]
  },
  {
   "cell_type": "code",
   "execution_count": 63,
   "metadata": {},
   "outputs": [
    {
     "data": {
      "text/plain": [
       "array([  52.6005646 ,   52.77079201,   52.83203878,   52.8931808 ,\n",
       "         53.17910515,   53.30666943,   53.5129854 ,   53.71528495,\n",
       "         53.80150694,   53.92760795,   54.18975658,   54.23053753,\n",
       "         54.34108657,   54.61827508,   54.90526282,   54.99871854,\n",
       "         55.12438928,   55.21472057,   55.49807042,   55.70242356,\n",
       "         55.92251347,   56.00917808,   56.26664334,   56.46323823,\n",
       "         56.60500275,   56.74637867,   57.02181518,   57.3217904 ,\n",
       "         57.35762748,   57.65822232,   57.81323504,   57.89263488,\n",
       "         58.01891716,   58.11716028,   58.66510802,   58.75405305,\n",
       "         58.88801269,   58.94704592,   59.25242127,   59.50261426,\n",
       "         59.61884302,   60.03281703,   60.09471957,   60.3217522 ,\n",
       "         60.68211756,   60.89639422,   61.09000983,   61.41217674,\n",
       "         61.53974115,   61.73474172,   62.20762156,   62.29350263,\n",
       "         62.63217991,   62.90970187,   63.08527479,   63.12427625,\n",
       "         63.31296539,   63.58645105,   63.93160112,   64.37113658,\n",
       "         64.5037581 ,   64.68164948,   64.69491196,   65.0723057 ,\n",
       "         65.26309223,   65.61065817,   65.92435422,   66.05063553,\n",
       "         66.21099784,   66.28096717,   66.410311  ,   66.8359198 ,\n",
       "         67.16155428,   67.40696996,   67.62679901,   68.06624207,\n",
       "         68.49704842,   68.51810062,   68.91710841,   69.12620761,\n",
       "         69.43175928,   69.72341569,   69.9225877 ,   70.33609983,\n",
       "         70.36773204,   71.23969977,   71.39223153,   71.55253821,\n",
       "         71.64641324,   72.00506046,   72.1794148 ,   72.32259149,\n",
       "         72.79995517,   73.32556879,   73.5085064 ,   73.72749303,\n",
       "         74.30645289,   74.4947384 ,   74.63364152,   75.12040189,\n",
       "         75.87989383,   76.09922547,   76.21495855,   76.67042502,\n",
       "         77.05636909,   77.84878654,   78.12149022,   78.54685416,\n",
       "         78.83782238,   79.26161116,   79.44298006,   80.03659113,\n",
       "         80.33911128,   80.77893202,   81.12644772,   81.51965915,\n",
       "         82.02557206,   82.1529091 ,   82.75787999,   83.20474145,\n",
       "         83.3351908 ,   83.64531657,   83.95094016,   84.11425391,\n",
       "         85.00534519,   85.99785203,   86.30894094,   86.94903944,\n",
       "         87.41136365,   87.7551364 ,   88.03108633,   88.19316878,\n",
       "         88.76945223,   88.95009411,   89.32780974,   89.66553035,\n",
       "         90.58803882,   91.30389301,   92.08100606,   92.56849602,\n",
       "         92.69778454,   93.22539098,   94.86139928,   95.11949194,\n",
       "         95.68655983,   95.83247346,   96.4981644 ,   97.11604177,\n",
       "         98.19578545,   98.47068836,   98.97602737,   99.87138186,\n",
       "        100.58734551,  100.92162621,  101.41764152,  102.35865957,\n",
       "        102.55081581,  103.36390754,  104.29785997,  104.51838869,\n",
       "        104.84766645,  106.17248098,  107.07416665,  107.60159898,\n",
       "        108.04647915,  109.24082219,  109.49807466,  110.59241204,\n",
       "        110.97366441,  112.03176035,  113.0966966 ,  113.75145608,\n",
       "        113.97855796,  114.61792648,  115.95925151,  117.9326947 ,\n",
       "        118.63175525,  119.36502271,  119.99005225,  120.59966847,\n",
       "        121.62343281,  121.99379596,  123.03038985,  124.42659544,\n",
       "        124.92792108,  125.45706736,  126.60231418,  128.29753143,\n",
       "        129.48489084,  130.83982745,  131.26305517,  133.87649815,\n",
       "        134.47536052,  136.79320856,  137.73327904,  138.36026944,\n",
       "        139.09463314,  141.83081316,  142.56583836,  144.08599001,\n",
       "        144.44851506,  146.85296431,  146.85998701,  148.13324126,\n",
       "        153.05642037,  153.99410054,  155.6306421 ,  157.51461141,\n",
       "        158.9333689 ,  162.13137241,  163.17362571,  164.14552808,\n",
       "        167.46398793,  171.3965264 ,  172.5463037 ,  175.85850476,\n",
       "        180.62798656,  181.10128431,  184.7700678 ,  188.6583135 ,\n",
       "        189.42069286,  191.19837663,  197.95110438,  203.90935886,\n",
       "        206.28007614,  209.78512182,  215.0529617 ,  220.28751979,\n",
       "        225.36693397,  228.35750278,  243.29392855,  245.25507013,\n",
       "        256.61518694,  261.76333525,  273.22763496,  281.1475038 ,\n",
       "        291.80964088,  307.63277039,  321.63215746,  343.5971512 ,\n",
       "        356.90142284,  368.30732708,  370.37381649,  426.71790296,\n",
       "        442.88131427,  460.48977782,  477.29254188,  530.27481046,\n",
       "        608.74762115, 9097.53798163])"
      ]
     },
     "execution_count": 63,
     "metadata": {},
     "output_type": "execute_result"
    }
   ],
   "source": [
    "np.sort(eigenvalues)[950:1200]"
   ]
  },
  {
   "cell_type": "code",
   "execution_count": 98,
   "metadata": {},
   "outputs": [
    {
     "data": {
      "text/plain": [
       "250"
      ]
     },
     "execution_count": 98,
     "metadata": {},
     "output_type": "execute_result"
    }
   ],
   "source": [
    "k=len(np.sort(eigenvalues)[950:1200])\n",
    "k"
   ]
  },
  {
   "cell_type": "code",
   "execution_count": 66,
   "metadata": {},
   "outputs": [
    {
     "data": {
      "text/plain": [
       "array([9097.53798163,  608.74762115,  530.27481046,  477.29254188,\n",
       "        460.48977782,  442.88131427,  426.71790296,  370.37381649,\n",
       "        368.30732708,  356.90142284,  343.5971512 ,  321.63215746,\n",
       "        307.63277039,  291.80964088,  281.1475038 ,  273.22763496,\n",
       "        261.76333525,  256.61518694,  245.25507013,  243.29392855,\n",
       "        228.35750278,  225.36693397,  220.28751979,  215.0529617 ,\n",
       "        209.78512182,  206.28007614,  203.90935886,  197.95110438,\n",
       "        191.19837663,  189.42069286,  188.6583135 ,  184.7700678 ,\n",
       "        181.10128431,  180.62798656,  175.85850476,  172.5463037 ,\n",
       "        171.3965264 ,  167.46398793,  164.14552808,  163.17362571,\n",
       "        162.13137241,  158.9333689 ,  157.51461141,  155.6306421 ,\n",
       "        153.99410054,  153.05642037,  148.13324126,  146.85998701,\n",
       "        146.85296431,  144.44851506,  144.08599001,  142.56583836,\n",
       "        141.83081316,  139.09463314,  138.36026944,  137.73327904,\n",
       "        136.79320856,  134.47536052,  133.87649815,  131.26305517,\n",
       "        130.83982745,  129.48489084,  128.29753143,  126.60231418,\n",
       "        125.45706736,  124.92792108,  124.42659544,  123.03038985,\n",
       "        121.99379596,  121.62343281,  120.59966847,  119.99005225,\n",
       "        119.36502271,  118.63175525,  117.9326947 ,  115.95925151,\n",
       "        114.61792648,  113.97855796,  113.75145608,  113.0966966 ,\n",
       "        112.03176035,  110.97366441,  110.59241204,  109.49807466,\n",
       "        109.24082219,  108.04647915,  107.60159898,  107.07416665,\n",
       "        106.17248098,  104.84766645,  104.51838869,  104.29785997,\n",
       "        103.36390754,  102.55081581,  102.35865957,  101.41764152,\n",
       "        100.92162621,  100.58734551,   99.87138186,   98.97602737,\n",
       "         98.47068836,   98.19578545,   97.11604177,   96.4981644 ,\n",
       "         95.83247346,   95.68655983,   95.11949194,   94.86139928,\n",
       "         93.22539098,   92.69778454,   92.56849602,   92.08100606,\n",
       "         91.30389301,   90.58803882,   89.66553035,   89.32780974,\n",
       "         88.95009411,   88.76945223,   88.19316878,   88.03108633,\n",
       "         87.7551364 ,   87.41136365,   86.94903944,   86.30894094,\n",
       "         85.99785203,   85.00534519,   84.11425391,   83.95094016,\n",
       "         83.64531657,   83.3351908 ,   83.20474145,   82.75787999,\n",
       "         82.1529091 ,   82.02557206,   81.51965915,   81.12644772,\n",
       "         80.77893202,   80.33911128,   80.03659113,   79.44298006,\n",
       "         79.26161116,   78.83782238,   78.54685416,   78.12149022,\n",
       "         77.84878654,   77.05636909,   76.67042502,   76.21495855,\n",
       "         76.09922547,   75.87989383,   75.12040189,   74.63364152,\n",
       "         74.4947384 ,   74.30645289,   73.72749303,   73.5085064 ,\n",
       "         73.32556879,   72.79995517,   72.32259149,   72.1794148 ,\n",
       "         72.00506046,   71.64641324,   71.55253821,   71.39223153,\n",
       "         71.23969977,   70.36773204,   70.33609983,   69.9225877 ,\n",
       "         69.72341569,   69.43175928,   69.12620761,   68.91710841,\n",
       "         68.51810062,   68.49704842,   68.06624207,   67.62679901,\n",
       "         67.40696996,   67.16155428,   66.8359198 ,   66.410311  ,\n",
       "         66.28096717,   66.21099784,   66.05063553,   65.92435422,\n",
       "         65.61065817,   65.26309223,   65.0723057 ,   64.69491196,\n",
       "         64.68164948,   64.5037581 ,   64.37113658,   63.93160112,\n",
       "         63.58645105,   63.31296539,   63.12427625,   63.08527479,\n",
       "         62.90970187,   62.63217991,   62.29350263,   62.20762156,\n",
       "         61.73474172,   61.53974115,   61.41217674,   61.09000983,\n",
       "         60.89639422,   60.68211756,   60.3217522 ,   60.09471957,\n",
       "         60.03281703,   59.61884302,   59.50261426,   59.25242127,\n",
       "         58.94704592,   58.88801269,   58.75405305,   58.66510802,\n",
       "         58.11716028,   58.01891716,   57.89263488,   57.81323504,\n",
       "         57.65822232,   57.35762748,   57.3217904 ,   57.02181518,\n",
       "         56.74637867,   56.60500275,   56.46323823,   56.26664334,\n",
       "         56.00917808,   55.92251347,   55.70242356,   55.49807042,\n",
       "         55.21472057,   55.12438928,   54.99871854,   54.90526282,\n",
       "         54.61827508,   54.34108657,   54.23053753,   54.18975658,\n",
       "         53.92760795,   53.80150694,   53.71528495,   53.5129854 ,\n",
       "         53.30666943,   53.17910515,   52.8931808 ,   52.83203878,\n",
       "         52.77079201,   52.6005646 ])"
      ]
     },
     "execution_count": 66,
     "metadata": {},
     "output_type": "execute_result"
    }
   ],
   "source": [
    "eigenvalues[0:250]"
   ]
  },
  {
   "cell_type": "code",
   "execution_count": 99,
   "metadata": {},
   "outputs": [
    {
     "data": {
      "text/plain": [
       "array([[9097.53798163,    0.        ,    0.        , ...,    0.        ,\n",
       "           0.        ,    0.        ],\n",
       "       [   0.        ,  608.74762115,    0.        , ...,    0.        ,\n",
       "           0.        ,    0.        ],\n",
       "       [   0.        ,    0.        ,  530.27481046, ...,    0.        ,\n",
       "           0.        ,    0.        ],\n",
       "       ...,\n",
       "       [   0.        ,    0.        ,    0.        , ...,    0.        ,\n",
       "           0.        ,    0.        ],\n",
       "       [   0.        ,    0.        ,    0.        , ...,    0.        ,\n",
       "           0.        ,    0.        ],\n",
       "       [   0.        ,    0.        ,    0.        , ...,    0.        ,\n",
       "           0.        ,    0.        ]])"
      ]
     },
     "execution_count": 99,
     "metadata": {},
     "output_type": "execute_result"
    }
   ],
   "source": [
    "novo=np.concatenate([eigenvalues[0:250], np.zeros(950)])\n",
    "SIGMAk=np.diag(novo)\n",
    "SIGMAk"
   ]
  },
  {
   "cell_type": "code",
   "execution_count": 82,
   "metadata": {},
   "outputs": [
    {
     "data": {
      "text/plain": [
       "(1200, 1200)"
      ]
     },
     "execution_count": 82,
     "metadata": {},
     "output_type": "execute_result"
    }
   ],
   "source": [
    "SIGMAk.shape"
   ]
  },
  {
   "cell_type": "code",
   "execution_count": 107,
   "metadata": {},
   "outputs": [],
   "source": [
    "Ck=np.dot(U, SIGMAk)\n",
    "V_t=V.transpose()\n",
    "Ck=np.dot(Ck, V)"
   ]
  },
  {
   "cell_type": "code",
   "execution_count": 106,
   "metadata": {},
   "outputs": [
    {
     "ename": "ValueError",
     "evalue": "matmul: Input operand 1 has a mismatch in its core dimension 0, with gufunc signature (n?,k),(k,m?)->(n?,m?) (size 18278 is different from 1200)",
     "output_type": "error",
     "traceback": [
      "\u001b[1;31m---------------------------------------------------------------------------\u001b[0m",
      "\u001b[1;31mValueError\u001b[0m                                Traceback (most recent call last)",
      "\u001b[1;32m<ipython-input-106-3d4d1120adb7>\u001b[0m in \u001b[0;36m<module>\u001b[1;34m\u001b[0m\n\u001b[1;32m----> 1\u001b[1;33m \u001b[0mC_a\u001b[0m \u001b[1;33m=\u001b[0m \u001b[0mU\u001b[0m \u001b[1;33m@\u001b[0m \u001b[0mSIGMAk\u001b[0m \u001b[1;33m@\u001b[0m \u001b[0mV_t\u001b[0m\u001b[1;33m\u001b[0m\u001b[1;33m\u001b[0m\u001b[0m\n\u001b[0m",
      "\u001b[1;31mValueError\u001b[0m: matmul: Input operand 1 has a mismatch in its core dimension 0, with gufunc signature (n?,k),(k,m?)->(n?,m?) (size 18278 is different from 1200)"
     ]
    }
   ],
   "source": []
  }
 ],
 "metadata": {
  "kernelspec": {
   "display_name": "Python 2",
   "language": "python",
   "name": "python2"
  },
  "language_info": {
   "codemirror_mode": {
    "name": "ipython",
    "version": 2
   },
   "file_extension": ".py",
   "mimetype": "text/x-python",
   "name": "python",
   "nbconvert_exporter": "python",
   "pygments_lexer": "ipython2",
   "version": "2.7.16"
  }
 },
 "nbformat": 4,
 "nbformat_minor": 2
}
