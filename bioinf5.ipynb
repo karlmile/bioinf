{
 "cells": [
  {
   "cell_type": "code",
   "execution_count": 5,
   "metadata": {},
   "outputs": [
    {
     "data": {
      "text/plain": [
       "'40.52352124979594\\n'"
      ]
     },
     "execution_count": 5,
     "metadata": {},
     "output_type": "execute_result"
    }
   ],
   "source": [
    "import matplotlib.pyplot as plt\n",
    "import numpy as np\n",
    "import math\n",
    "\n",
    "f1=open(\"sviscore.txt\")\n",
    "\n",
    "x = f1.readlines()\n",
    "\n",
    "x[0]"
   ]
  },
  {
   "cell_type": "code",
   "execution_count": 7,
   "metadata": {},
   "outputs": [
    {
     "data": {
      "text/plain": [
       "40.52352124979594"
      ]
     },
     "execution_count": 7,
     "metadata": {},
     "output_type": "execute_result"
    }
   ],
   "source": [
    "for i in range(len(x)):\n",
    "    x[i] = float(x[i])\n",
    "    \n",
    "    \n",
    "x[0]"
   ]
  },
  {
   "cell_type": "code",
   "execution_count": 10,
   "metadata": {},
   "outputs": [
    {
     "data": {
      "text/plain": [
       "(array([8.000e+00, 4.000e+00, 1.600e+01, 9.500e+01, 4.140e+02, 1.596e+03,\n",
       "        4.324e+03, 8.984e+03, 9.078e+03, 5.572e+03, 2.140e+03, 7.720e+02,\n",
       "        2.180e+02, 5.700e+01, 1.700e+01, 9.000e+00, 5.000e+00, 2.100e+01,\n",
       "        4.700e+01, 3.200e+01]),\n",
       " array([ 4.65396035,  6.4974384 ,  8.34091644, 10.18439449, 12.02787253,\n",
       "        13.87135058, 15.71482862, 17.55830667, 19.40178471, 21.24526275,\n",
       "        23.0887408 , 24.93221884, 26.77569689, 28.61917493, 30.46265298,\n",
       "        32.30613102, 34.14960907, 35.99308711, 37.83656516, 39.6800432 ,\n",
       "        41.52352125]),\n",
       " <a list of 20 Patch objects>)"
      ]
     },
     "execution_count": 10,
     "metadata": {},
     "output_type": "execute_result"
    },
    {
     "data": {
      "image/png": "[encoded data removed]",
      "text/plain": [
       "<Figure size 432x288 with 1 Axes>"
      ]
     },
     "metadata": {
      "needs_background": "light"
     },
     "output_type": "display_data"
    }
   ],
   "source": [
    "plt.hist(x, bins= 20, range= (min(x), max(x)+1))"
   ]
  },
  {
   "cell_type": "code",
   "execution_count": null,
   "metadata": {},
   "outputs": [],
   "source": []
  }
 ],
 "metadata": {
  "kernelspec": {
   "display_name": "Python 3",
   "language": "python",
   "name": "python3"
  },
  "language_info": {
   "codemirror_mode": {
    "name": "ipython",
    "version": 3
   },
   "file_extension": ".py",
   "mimetype": "text/x-python",
   "name": "python",
   "nbconvert_exporter": "python",
   "pygments_lexer": "ipython3",
   "version": "3.7.4"
  }
 },
 "nbformat": 4,
 "nbformat_minor": 2
}
