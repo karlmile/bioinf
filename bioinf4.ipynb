{
  "metadata": {
    "language_info": {
      "codemirror_mode": {
        "name": "python",
        "version": 3
      },
      "file_extension": ".py",
      "mimetype": "text/x-python",
      "name": "python",
      "nbconvert_exporter": "python",
      "pygments_lexer": "ipython3",
      "version": "3.8"
    },
    "kernelspec": {
      "name": "python",
      "display_name": "Python (Pyodide)",
      "language": "python"
    }
  },
  "nbformat_minor": 4,
  "nbformat": 4,
  "cells": [
    {
      "cell_type": "code",
      "source": "import numpy as np\nfrom scipy import stats\nfrom scipy.stats import logistic\n\nf1=open(\"scoreovi.txt\")\nf2=open(\"ATBioPositives.txt\")\nf3=open(\"AT_0,3Cutoff.txt\")\n\n\nscoreovi=np.array(f1.readline().split(','), dtype=int)\nscoreovi=list(scoreovi)\n\nbiopos=f2.readlines()\ncutoff=f3.readlines()\n\nf1.close()\nf2.close()\nf3.close()\n\n",
      "metadata": {
        "trusted": true
      },
      "execution_count": 5,
      "outputs": []
    },
    {
      "cell_type": "code",
      "source": "\nTruePos=0\nfor i in biopos:\n    if(i in cutoff):\n        TruePos+=1\nFalsePos=len(cutoff)-TruePos\nFalseNeg=len(biopos)-TruePos\nTrueNeg=len(scoreovi)-(TruePos+FalsePos+FalseNeg)\n\nTPR=TruePos/(TruePos+FalseNeg)\nPPV=TruePos/(TruePos+FalsePos)\nF1=2*(TPR*PPV)/(TPR+PPV)\n\nparam=logistic.fit(scoreovi)\nmode=param[0]\nscale=param[1]\n\nTPR",
      "metadata": {
        "trusted": true
      },
      "execution_count": 13,
      "outputs": [
        {
          "execution_count": 14,
          "output_type": "execute_result",
          "data": {
            "text/plain": "0.9903846153846154"
          },
          "metadata": {}
        }
      ]
    },
    {
      "cell_type": "code",
      "source": "PPV",
      "metadata": {
        "trusted": true
      },
      "execution_count": 15,
      "outputs": [
        {
          "execution_count": 15,
          "output_type": "execute_result",
          "data": {
            "text/plain": "0.0030829093085902423"
          },
          "metadata": {}
        }
      ]
    },
    {
      "cell_type": "code",
      "source": "F1",
      "metadata": {
        "trusted": true
      },
      "execution_count": 16,
      "outputs": [
        {
          "execution_count": 16,
          "output_type": "execute_result",
          "data": {
            "text/plain": "0.006146684967476278"
          },
          "metadata": {}
        }
      ]
    },
    {
      "cell_type": "code",
      "source": "param",
      "metadata": {
        "trusted": true
      },
      "execution_count": 17,
      "outputs": [
        {
          "execution_count": 17,
          "output_type": "execute_result",
          "data": {
            "text/plain": "(22.0, 4.8912957872170326e-17)"
          },
          "metadata": {}
        }
      ]
    }
  ]
}